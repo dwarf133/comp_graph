{
 "cells": [
  {
   "cell_type": "markdown",
   "metadata": {},
   "source": [
    "### Алгоритм Брезенхема для окружности"
   ]
  },
  {
   "cell_type": "markdown",
   "metadata": {},
   "source": [
    "* Импортируем необходимые библиотеки\n",
    "* Задаем размер холста через константы"
   ]
  },
  {
   "cell_type": "code",
   "execution_count": 2,
   "metadata": {},
   "outputs": [],
   "source": [
    "from math import *\n",
    "from PIL import Image, ImageDraw\n",
    "WIDTH = 800\n",
    "HEIGHT = 800"
   ]
  },
  {
   "cell_type": "markdown",
   "metadata": {},
   "source": [
    "Функции перехода к удобной системе координат"
   ]
  },
  {
   "cell_type": "code",
   "execution_count": 3,
   "metadata": {},
   "outputs": [],
   "source": [
    "def to_normal_view(x, y):\n",
    "    return x + WIDTH // 2, -1 * (y - HEIGHT // 2)\n"
   ]
  },
  {
   "cell_type": "markdown",
   "metadata": {},
   "source": [
    "Непосредственно сам алгоритм"
   ]
  },
  {
   "cell_type": "code",
   "execution_count": 4,
   "metadata": {},
   "outputs": [],
   "source": [
    "def drawCircle(x, y, r, color=\"black\"):\n",
    "    disp_x = x\n",
    "    disp_y = y\n",
    "    x = 0\n",
    "    y = r\n",
    "    delta = (1-2*r)\n",
    "    error = 0\n",
    "    while y >= 0:\n",
    "        idDraw.point(to_normal_view(disp_x + x, disp_y + y), fill=color)\n",
    "        idDraw.point(to_normal_view(disp_x - x, disp_y + y), fill=color)\n",
    "        idDraw.point(to_normal_view(disp_x + x, disp_y - y), fill=color)\n",
    "        idDraw.point(to_normal_view(disp_x - x, disp_y - y), fill=color)\n",
    "        \n",
    "        error = 2 * (delta + y) - 1\n",
    "        if ((delta < 0) and (error <=0)):\n",
    "            x+=1\n",
    "            delta = delta + (2*x+1)\n",
    "            continue\n",
    "        error = 2 * (delta - x) - 1\n",
    "        if ((delta > 0) and (error > 0)):\n",
    "            y -= 1\n",
    "            delta = delta + (1 - 2 * y)\n",
    "            continue\n",
    "        x += 1\n",
    "        delta = delta + (2 * (x - y))\n",
    "        y -= 1\n"
   ]
  },
  {
   "cell_type": "markdown",
   "metadata": {},
   "source": [
    "Ввод данных и запуск кода"
   ]
  },
  {
   "cell_type": "code",
   "execution_count": 8,
   "metadata": {},
   "outputs": [],
   "source": [
    "x, y, r = [int(i) for i in input(\"Input: x, y, r: \").split()]\n",
    "img = Image.new('RGB', (HEIGHT, WIDTH), 'white')\n",
    "idDraw = ImageDraw.Draw(img)\n",
    "drawCircle(x, y, r)\n",
    "img.save('circle.png')"
   ]
  },
  {
   "cell_type": "markdown",
   "metadata": {},
   "source": [
    "### Результат"
   ]
  },
  {
   "cell_type": "markdown",
   "metadata": {},
   "source": [
    "![Результат работы](circle.png)"
   ]
  }
 ],
 "metadata": {
  "interpreter": {
   "hash": "aee8b7b246df8f9039afb4144a1f6fd8d2ca17a180786b69acc140d282b71a49"
  },
  "kernelspec": {
   "display_name": "Python 3.9.10 64-bit",
   "language": "python",
   "name": "python3"
  },
  "language_info": {
   "codemirror_mode": {
    "name": "ipython",
    "version": 3
   },
   "file_extension": ".py",
   "mimetype": "text/x-python",
   "name": "python",
   "nbconvert_exporter": "python",
   "pygments_lexer": "ipython3",
   "version": "3.9.10"
  },
  "orig_nbformat": 4
 },
 "nbformat": 4,
 "nbformat_minor": 2
}
