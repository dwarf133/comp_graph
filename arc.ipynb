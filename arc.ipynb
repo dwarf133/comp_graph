{
 "cells": [
  {
   "cell_type": "markdown",
   "metadata": {},
   "source": [
    "### Рисование дуги в первой четверти"
   ]
  },
  {
   "cell_type": "markdown",
   "metadata": {},
   "source": [
    "* Импортируем необходимые библиотеки\n",
    "* Задаем размер холста через константы"
   ]
  },
  {
   "cell_type": "code",
   "execution_count": 5,
   "metadata": {},
   "outputs": [],
   "source": [
    "from math import *\n",
    "from PIL import Image, ImageDraw\n",
    "WIDTH = 800\n",
    "HEIGHT = 800"
   ]
  },
  {
   "cell_type": "markdown",
   "metadata": {},
   "source": [
    "Функции перехода к удобной системе координат"
   ]
  },
  {
   "cell_type": "code",
   "execution_count": 6,
   "metadata": {},
   "outputs": [],
   "source": [
    "def to_normal_view(x, y):\n",
    "    return x + WIDTH // 2, -1 * (y - HEIGHT // 2)\n"
   ]
  },
  {
   "cell_type": "markdown",
   "metadata": {},
   "source": [
    "Непосредственно сам алгоритм"
   ]
  },
  {
   "cell_type": "code",
   "execution_count": 7,
   "metadata": {},
   "outputs": [],
   "source": [
    "def drawCircle(disp_x, disp_y, r, angF, angS, color=\"black\"):\n",
    "    if angF > angS:\n",
    "        angF, angS = angS, angF\n",
    "    angF *= pi / 180\n",
    "    angS *= pi / 180\n",
    "    x = int(r * cos(angS))\n",
    "    y = int(r * sin(angS))\n",
    "    delta = 2 * (1 - r)\n",
    "    error = 0\n",
    "    while y >= int(r * sin(angF)):\n",
    "        idDraw.point(to_normal_view(disp_x + x, disp_y + y), fill=color)\n",
    "        error = 2 * (delta + y) - 1\n",
    "        if ((delta < 0) and (error <=0)):\n",
    "            x+=1\n",
    "            delta = delta + (2*x+1)\n",
    "            continue\n",
    "        error = 2 * (delta - x) - 1\n",
    "        if ((delta > 0) and (error > 0)):\n",
    "            y -= 1\n",
    "            delta = delta + (1 - 2 * y)\n",
    "            continue\n",
    "        x += 1\n",
    "        delta = delta + (2 * (x - y))\n",
    "        y -= 1\n"
   ]
  },
  {
   "cell_type": "markdown",
   "metadata": {},
   "source": [
    "Ввод данных и запуск кода"
   ]
  },
  {
   "cell_type": "code",
   "execution_count": 8,
   "metadata": {},
   "outputs": [],
   "source": [
    "x, y, r, angF, angS = [int(i) for i in input(\"Input: x, y, r, angF, angS: \").split()]\n",
    "img = Image.new('RGB', (HEIGHT, WIDTH), 'white')\n",
    "idDraw = ImageDraw.Draw(img)\n",
    "drawCircle(x, y, r, angF, angS)\n",
    "img.save('arc.png')"
   ]
  },
  {
   "cell_type": "markdown",
   "metadata": {},
   "source": [
    "### Результат"
   ]
  },
  {
   "cell_type": "markdown",
   "metadata": {},
   "source": [
    "![Результат работы](arc.png)"
   ]
  }
 ],
 "metadata": {
  "interpreter": {
   "hash": "e7370f93d1d0cde622a1f8e1c04877d8463912d04d973331ad4851f04de6915a"
  },
  "kernelspec": {
   "display_name": "Python 3.9.7 64-bit",
   "language": "python",
   "name": "python3"
  },
  "language_info": {
   "codemirror_mode": {
    "name": "ipython",
    "version": 3
   },
   "file_extension": ".py",
   "mimetype": "text/x-python",
   "name": "python",
   "nbconvert_exporter": "python",
   "pygments_lexer": "ipython3",
   "version": "3.9.7"
  },
  "orig_nbformat": 4
 },
 "nbformat": 4,
 "nbformat_minor": 2
}
