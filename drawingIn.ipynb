{
 "cells": [
  {
   "cell_type": "markdown",
   "metadata": {},
   "source": [
    "### Закрашиваем окружность с центром в точке Х0, У0\n",
    "* Воспользуемся программой рисования окружности из прошлой лабораторной работы\n",
    "* Реализуем рекурсивный алгоритм закрашивание контура"
   ]
  },
  {
   "cell_type": "code",
   "execution_count": 36,
   "metadata": {},
   "outputs": [],
   "source": [
    "from math import *\n",
    "from PIL import Image, ImageDraw\n",
    "WIDTH = 50\n",
    "HEIGHT = 50\n",
    "SPEED = 10"
   ]
  },
  {
   "cell_type": "markdown",
   "metadata": {},
   "source": [
    "Функция перехода к нормальной системе координат"
   ]
  },
  {
   "cell_type": "code",
   "execution_count": 37,
   "metadata": {},
   "outputs": [],
   "source": [
    "def to_normal_view(x, y):\n",
    "    return x + WIDTH // 2, -1 * (y - HEIGHT // 2)\n"
   ]
  },
  {
   "cell_type": "markdown",
   "metadata": {},
   "source": [
    "Функция рисования окружности"
   ]
  },
  {
   "cell_type": "code",
   "execution_count": 38,
   "metadata": {},
   "outputs": [],
   "source": [
    "def drawCircle(x, y, r, color=\"black\"):\n",
    "    disp_x = x\n",
    "    disp_y = y\n",
    "    x = 0\n",
    "    y = r\n",
    "    delta = (1-2*r)\n",
    "    error = 0\n",
    "    while y >= 0:\n",
    "        idDraw.point(to_normal_view(disp_x + x, disp_y + y), fill=color)\n",
    "        idDraw.point(to_normal_view(disp_x - x, disp_y + y), fill=color)\n",
    "        idDraw.point(to_normal_view(disp_x + x, disp_y - y), fill=color)\n",
    "        idDraw.point(to_normal_view(disp_x - x, disp_y - y), fill=color)\n",
    "        \n",
    "        error = 2 * (delta + y) - 1\n",
    "        if ((delta < 0) and (error <=0)):\n",
    "            x+=1\n",
    "            delta = delta + (2*x+1)\n",
    "            continue\n",
    "        error = 2 * (delta - x) - 1\n",
    "        if ((delta > 0) and (error > 0)):\n",
    "            y -= 1\n",
    "            delta = delta + (1 - 2 * y)\n",
    "            continue\n",
    "        x += 1\n",
    "        delta = delta + (2 * (x - y))\n",
    "        y -= 1\n"
   ]
  },
  {
   "cell_type": "code",
   "execution_count": 39,
   "metadata": {},
   "outputs": [],
   "source": [
    "def DrawingIn(x, y, images, color=\"blue\"):\n",
    "    stack = []\n",
    "    stack.append((x, y))\n",
    "    count = 0\n",
    "    frames_count = 0\n",
    "    while len(stack) > 0:\n",
    "        curX, curY = stack.pop()\n",
    "        if img.getpixel((curX-1, curY)) == (255, 255, 255): stack.append((curX-1, curY))\n",
    "        if img.getpixel((curX+1, curY)) == (255, 255, 255): stack.append((curX+1, curY))\n",
    "        if img.getpixel((curX, curY-1)) == (255, 255, 255): stack.append((curX, curY-1))\n",
    "        if img.getpixel((curX, curY+1)) == (255, 255, 255): stack.append((curX, curY+1))\n",
    "        idDraw.point((curX, curY), color)\n",
    "        if count % SPEED == 0:\n",
    "            img.save(f'temp/{frames_count}.png')\n",
    "            temp = Image.open(f'temp/{frames_count}.png')\n",
    "            frames_count += 1\n",
    "        count += 1\n",
    "    return frames_count \n",
    "\n"
   ]
  },
  {
   "cell_type": "code",
   "execution_count": 40,
   "metadata": {},
   "outputs": [],
   "source": [
    "x, y, r = [int(i) for i in input(\"Input: x, y, r: \").split()]\n",
    "img = Image.new('RGB', (HEIGHT, WIDTH), 'white')\n",
    "idDraw = ImageDraw.Draw(img)\n",
    "drawCircle(x, y, r)\n",
    "moved = to_normal_view(x, y)\n",
    "images = []\n",
    "count = DrawingIn(moved[0], moved[1], images)\n",
    "img.save('drawed.png')\n",
    "for i in range(0, count):\n",
    "    tmp = Image.open(f'temp/{i}.png')\n",
    "    images.append(tmp)\n",
    "images[0].save('drawed.gif', save_all=True, append_images=images[1:], optimized=False, duration=10, loop=0)\n",
    "\n"
   ]
  },
  {
   "cell_type": "markdown",
   "metadata": {},
   "source": [
    "![](drawed.gif)"
   ]
  }
 ],
 "metadata": {
  "interpreter": {
   "hash": "e7370f93d1d0cde622a1f8e1c04877d8463912d04d973331ad4851f04de6915a"
  },
  "kernelspec": {
   "display_name": "Python 3.9.7 64-bit",
   "language": "python",
   "name": "python3"
  },
  "language_info": {
   "codemirror_mode": {
    "name": "ipython",
    "version": 3
   },
   "file_extension": ".py",
   "mimetype": "text/x-python",
   "name": "python",
   "nbconvert_exporter": "python",
   "pygments_lexer": "ipython3",
   "version": "3.9.7"
  },
  "orig_nbformat": 4
 },
 "nbformat": 4,
 "nbformat_minor": 2
}
